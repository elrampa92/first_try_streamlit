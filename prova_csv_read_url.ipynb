{
  "nbformat": 4,
  "nbformat_minor": 0,
  "metadata": {
    "colab": {
      "provenance": [],
      "authorship_tag": "ABX9TyMTBWn6/g0/aTLzf28+UQ3w",
      "include_colab_link": true
    },
    "kernelspec": {
      "name": "python3",
      "display_name": "Python 3"
    },
    "language_info": {
      "name": "python"
    }
  },
  "cells": [
    {
      "cell_type": "markdown",
      "metadata": {
        "id": "view-in-github",
        "colab_type": "text"
      },
      "source": [
        "<a href=\"https://colab.research.google.com/github/elrampa92/first_try_streamlit/blob/main/prova_csv_read_url.ipynb\" target=\"_parent\"><img src=\"https://colab.research.google.com/assets/colab-badge.svg\" alt=\"Open In Colab\"/></a>"
      ]
    },
    {
      "cell_type": "code",
      "execution_count": 9,
      "metadata": {
        "colab": {
          "base_uri": "https://localhost:8080/"
        },
        "id": "lEfiJ_mcglZk",
        "outputId": "c36189bf-16ec-4b78-b0af-2e0ddcdb7edc"
      },
      "outputs": [
        {
          "output_type": "stream",
          "name": "stdout",
          "text": [
            "  Player Date RPE\n",
            "0  prova    0   3\n",
            "  Player Date RPE\n",
            "0  prova    0   3\n"
          ]
        }
      ],
      "source": [
        "import pandas as pd\n",
        "import requests\n",
        "import io\n",
        "    \n",
        "# Downloading the csv file from your GitHub account\n",
        "\n",
        "url = \"https://raw.githubusercontent.com/elrampa92/first_try_streamlit/main/db_RPE.csv\" # Make sure the url is the raw version of the file on GitHub\n",
        "download = requests.get(url).content\n",
        "\n",
        "# Reading the downloaded content and turning it into a pandas dataframe\n",
        "\n",
        "df = pd.read_csv(io.StringIO(download.decode('utf-8')))\n",
        "\n",
        "# Printing out the first 5 rows of the dataframe\n",
        "\n",
        "df = df.append({'Player':'prova','Date':0,'RPE':3}, ignore_index=True)\n",
        "\n",
        "print (df)\n",
        "\n",
        "df.to_csv(io.StringIO(download.decode('utf-8')))\n",
        "\n",
        "print (df)"
      ]
    }
  ]
}